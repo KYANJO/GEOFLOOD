{
 "cells": [
  {
   "cell_type": "code",
   "execution_count": 1,
   "metadata": {},
   "outputs": [
    {
     "name": "stdout",
     "output_type": "stream",
     "text": [
      "Using matplotlib backend: nbAgg\n",
      "%pylab is deprecated, use %matplotlib inline and import the required libraries.\n",
      "Populating the interactive namespace from numpy and matplotlib\n"
     ]
    }
   ],
   "source": [
    "%matplotlib inline\n",
    "%matplotlib notebook\n",
    "%pylab"
   ]
  },
  {
   "cell_type": "code",
   "execution_count": 9,
   "metadata": {},
   "outputs": [
    {
     "name": "stdout",
     "output_type": "stream",
     "text": [
      "[] [] [] [] [] [] [] [] [] [] \n",
      "[] [(1, 8)] [(2, 8)] [(3, 8)] [(4, 8)] [(5, 8)] [(6, 8)] [(7, 8)] [(8, 8)] [] \n",
      "[] [(1, 7)] [(2, 7)] [(3, 7)] [(4, 7)] [(5, 7)] [(6, 7)] [(7, 7)] [(8, 7)] [] \n",
      "[] [(1, 6)] [(2, 6)] [(3, 6)] [(4, 6)] [(5, 6)] [(6, 6)] [(7, 6)] [(8, 6)] [] \n",
      "[] [(1, 5)] [(2, 5)] [(3, 5)] [(4, 5)] [(5, 5)] [(6, 5)] [(7, 5)] [(8, 5)] [] \n",
      "[] [(1, 4)] [(2, 4)] [(3, 4)] [(4, 4)] [(5, 4)] [(6, 4)] [(7, 4)] [(8, 4)] [] \n",
      "[] [(1, 3)] [(2, 3)] [(3, 3)] [(4, 3)] [(5, 3)] [(6, 3)] [(7, 3)] [(8, 3)] [] \n",
      "[] [(1, 2)] [(2, 2)] [(3, 2)] [(4, 2)] [(5, 2)] [(6, 2)] [(7, 2)] [(8, 2)] [] \n",
      "[] [(1, 1)] [(2, 1)] [(3, 1)] [(4, 1)] [(5, 1)] [(6, 1)] [(7, 1)] [(8, 1)] [] \n",
      "[] [(1, 0)] [(2, 0)] [(3, 0)] [(4, 0)] [(5, 0)] [(6, 0)] [(7, 0)] [(8, 0)] [] \n",
      "\n",
      "\n",
      "\n",
      "[] [] [] [] [] [] [] [] [] [] \n",
      "[] [((1, 8), 92)] [((2, 8), 93)] [((3, 8), 94)] [((4, 8), 95)] [((5, 8), 96)] [((6, 8), 97)] [((7, 8), 98)] [((8, 8), 99)] [] \n",
      "[] [((1, 7), 82)] [((2, 7), 83)] [((3, 7), 84)] [((4, 7), 85)] [((5, 7), 86)] [((6, 7), 87)] [((7, 7), 88)] [((8, 7), 89)] [] \n",
      "[] [((1, 6), 72)] [((2, 6), 73)] [((3, 6), 74)] [((4, 6), 75)] [((5, 6), 76)] [((6, 6), 77)] [((7, 6), 78)] [((8, 6), 79)] [] \n",
      "[] [((1, 5), 62)] [((2, 5), 63)] [((3, 5), 64)] [((4, 5), 65)] [((5, 5), 66)] [((6, 5), 67)] [((7, 5), 68)] [((8, 5), 69)] [] \n",
      "[] [((1, 4), 52)] [((2, 4), 53)] [((3, 4), 54)] [((4, 4), 55)] [((5, 4), 56)] [((6, 4), 57)] [((7, 4), 58)] [((8, 4), 59)] [] \n",
      "[] [((1, 3), 42)] [((2, 3), 43)] [((3, 3), 44)] [((4, 3), 45)] [((5, 3), 46)] [((6, 3), 47)] [((7, 3), 48)] [((8, 3), 49)] [] \n",
      "[] [((1, 2), 32)] [((2, 2), 33)] [((3, 2), 34)] [((4, 2), 35)] [((5, 2), 36)] [((6, 2), 37)] [((7, 2), 38)] [((8, 2), 39)] [] \n",
      "[] [((1, 1), 22)] [((2, 1), 23)] [((3, 1), 24)] [((4, 1), 25)] [((5, 1), 26)] [((6, 1), 27)] [((7, 1), 28)] [((8, 1), 29)] [] \n",
      "[] [((1, 0), 12)] [((2, 0), 13)] [((3, 0), 14)] [((4, 0), 15)] [((5, 0), 16)] [((6, 0), 17)] [((7, 0), 18)] [((8, 0), 19)] [] \n"
     ]
    }
   ],
   "source": [
    "#  dimensions of the grid without ghost values\n",
    "mx = 6\n",
    "my = 6\n",
    "\n",
    "#  number of ghost cells\n",
    "mbc = 2\n",
    "\n",
    "# compute strides\n",
    "xs = 1 #  stride in x\n",
    "ys = (mx + 2*mbc)*xs #  stride in y\n",
    "zs = (my + 2*mbc)*ys*xs #  stride in z\n",
    "\n",
    "#  grid dimenssion with ghost values\n",
    "ifaces_x = mx + 2*mbc - 1  +1   # faces in x\n",
    "ifaces_y = my + 2*mbc - 1   +1  # faces in y\n",
    "num_faces = ifaces_x*ifaces_y #  number of faces\n",
    "\n",
    "grid1 = [[[] for _ in range(ifaces_y)] for _ in range(ifaces_x)]\n",
    "grid2 = [[[] for _ in range(ifaces_y)] for _ in range(ifaces_x)]\n",
    "grid3 = [[[] for _ in range(ifaces_y)] for _ in range(ifaces_x)]\n",
    "\n",
    "for thread_index in range(num_faces):\n",
    "    ix = thread_index % ifaces_x\n",
    "    iy = thread_index // ifaces_x\n",
    "\n",
    "    # print(ix, iy)\n",
    "\n",
    "    # Calculate indices as before\n",
    "    I = (iy + 1) * ys + (ix + 1) * xs\n",
    "    mq = 0 # 0 - h, 1 - hu, 2 - hv\n",
    "    I_q = I + mq*zs\n",
    "\n",
    "    # Check your condition and append the tuple to the corresponding grid cell\n",
    "    #  elimate the entire first column\n",
    "    # if ix > 0 and iy < my + 3:\n",
    "    if ix > 0 and ix < mx + 3 and iy < my + 3:\n",
    "        for j in range(my + 3):\n",
    "            if j == iy:\n",
    "                grid1[ix][j].append((ix, iy))\n",
    "                grid2[ix][j].append(((ix, iy), I))\n",
    "                grid3[ix][j].append(((ix, iy), I, I_q))\n",
    "# (0,0) is at the top left corner of the grid\n",
    "# for row in grid1:\n",
    "#     print(row)\n",
    "\n",
    "# print(\"\\n\\n\")\n",
    "\n",
    "#  (0,0) os at the bottom left corner of the grid\n",
    "for j in range(len(grid1)-1, -1, -1):  # Start from the last row, moving upwards\n",
    "    for i in range(len(grid1[j])):\n",
    "        print(grid1[i][j], end=' ')\n",
    "    print()  # Newline after each row\n",
    "\n",
    "print(\"\\n\\n\")\n",
    "for j in range(len(grid2)-1, -1, -1):  # Start from the last row, moving upwards\n",
    "    for i in range(len(grid2[j])):\n",
    "        print(grid2[i][j], end=' ')\n",
    "    print()  # Newline after each row\n",
    "\n",
    "# # print(\"\\n\\n\")\n",
    "# # for j in range(len(grid)-1, -1, -1):  # Start from the last row, moving upwards\n",
    "# #     for i in range(len(grid[i])):\n",
    "# #         print(grid3[i][j], end=' ')\n",
    "# #     print()  # Newline after each row"
   ]
  },
  {
   "cell_type": "code",
   "execution_count": null,
   "metadata": {},
   "outputs": [],
   "source": []
  },
  {
   "cell_type": "code",
   "execution_count": null,
   "metadata": {},
   "outputs": [],
   "source": []
  }
 ],
 "metadata": {
  "kernelspec": {
   "display_name": "Python 3 (ipykernel)",
   "language": "python",
   "name": "python3"
  },
  "language_info": {
   "codemirror_mode": {
    "name": "ipython",
    "version": 3
   },
   "file_extension": ".py",
   "mimetype": "text/x-python",
   "name": "python",
   "nbconvert_exporter": "python",
   "pygments_lexer": "ipython3",
   "version": "3.11.4"
  }
 },
 "nbformat": 4,
 "nbformat_minor": 2
}

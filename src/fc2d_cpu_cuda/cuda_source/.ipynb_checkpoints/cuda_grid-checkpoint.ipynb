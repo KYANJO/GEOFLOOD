{
 "cells": [
  {
   "cell_type": "code",
   "execution_count": 1,
   "metadata": {},
   "outputs": [
    {
     "name": "stdout",
     "output_type": "stream",
     "text": [
      "Using matplotlib backend: nbAgg\n",
      "%pylab is deprecated, use %matplotlib inline and import the required libraries.\n",
      "Populating the interactive namespace from numpy and matplotlib\n"
     ]
    }
   ],
   "source": [
    "%matplotlib inline\n",
    "%matplotlib notebook\n",
    "%pylab"
   ]
  },
  {
   "cell_type": "code",
   "execution_count": 34,
   "metadata": {},
   "outputs": [
    {
     "name": "stdout",
     "output_type": "stream",
     "text": [
      "[(0, 8)] [(1, 8)] [(2, 8)] [(3, 8)] [(4, 8)] [(5, 8)] [(6, 8)] [(7, 8)] [(8, 8)] \n",
      "[(0, 7)] [(1, 7)] [(2, 7)] [(3, 7)] [(4, 7)] [(5, 7)] [(6, 7)] [(7, 7)] [(8, 7)] \n",
      "[(0, 6)] [(1, 6)] [(2, 6)] [(3, 6)] [(4, 6)] [(5, 6)] [(6, 6)] [(7, 6)] [(8, 6)] \n",
      "[(0, 5)] [(1, 5)] [(2, 5)] [(3, 5)] [(4, 5)] [(5, 5)] [(6, 5)] [(7, 5)] [(8, 5)] \n",
      "[(0, 4)] [(1, 4)] [(2, 4)] [(3, 4)] [(4, 4)] [(5, 4)] [(6, 4)] [(7, 4)] [(8, 4)] \n",
      "[(0, 3)] [(1, 3)] [(2, 3)] [(3, 3)] [(4, 3)] [(5, 3)] [(6, 3)] [(7, 3)] [(8, 3)] \n",
      "[(0, 2)] [(1, 2)] [(2, 2)] [(3, 2)] [(4, 2)] [(5, 2)] [(6, 2)] [(7, 2)] [(8, 2)] \n",
      "[(0, 1)] [(1, 1)] [(2, 1)] [(3, 1)] [(4, 1)] [(5, 1)] [(6, 1)] [(7, 1)] [(8, 1)] \n",
      "[(0, 0)] [(1, 0)] [(2, 0)] [(3, 0)] [(4, 0)] [(5, 0)] [(6, 0)] [(7, 0)] [(8, 0)] \n",
      "\n",
      "\n",
      "\n",
      "[((0, 8), 82)] [((1, 8), 83)] [((2, 8), 84)] [((3, 8), 85)] [((4, 8), 86)] [((5, 8), 87)] [((6, 8), 88)] [((7, 8), 89)] [((8, 8), 90)] \n",
      "[((0, 7), 73)] [((1, 7), 74)] [((2, 7), 75)] [((3, 7), 76)] [((4, 7), 77)] [((5, 7), 78)] [((6, 7), 79)] [((7, 7), 80)] [((8, 7), 81)] \n",
      "[((0, 6), 64)] [((1, 6), 65)] [((2, 6), 66)] [((3, 6), 67)] [((4, 6), 68)] [((5, 6), 69)] [((6, 6), 70)] [((7, 6), 71)] [((8, 6), 72)] \n",
      "[((0, 5), 55)] [((1, 5), 56)] [((2, 5), 57)] [((3, 5), 58)] [((4, 5), 59)] [((5, 5), 60)] [((6, 5), 61)] [((7, 5), 62)] [((8, 5), 63)] \n",
      "[((0, 4), 46)] [((1, 4), 47)] [((2, 4), 48)] [((3, 4), 49)] [((4, 4), 50)] [((5, 4), 51)] [((6, 4), 52)] [((7, 4), 53)] [((8, 4), 54)] \n",
      "[((0, 3), 37)] [((1, 3), 38)] [((2, 3), 39)] [((3, 3), 40)] [((4, 3), 41)] [((5, 3), 42)] [((6, 3), 43)] [((7, 3), 44)] [((8, 3), 45)] \n",
      "[((0, 2), 28)] [((1, 2), 29)] [((2, 2), 30)] [((3, 2), 31)] [((4, 2), 32)] [((5, 2), 33)] [((6, 2), 34)] [((7, 2), 35)] [((8, 2), 36)] \n",
      "[((0, 1), 19)] [((1, 1), 20)] [((2, 1), 21)] [((3, 1), 22)] [((4, 1), 23)] [((5, 1), 24)] [((6, 1), 25)] [((7, 1), 26)] [((8, 1), 27)] \n",
      "[((0, 0), 10)] [((1, 0), 11)] [((2, 0), 12)] [((3, 0), 13)] [((4, 0), 14)] [((5, 0), 15)] [((6, 0), 16)] [((7, 0), 17)] [((8, 0), 18)] \n"
     ]
    }
   ],
   "source": [
    "#  dimensions of the grid without ghost values\n",
    "mx = 5\n",
    "my = 5\n",
    "\n",
    "#  number of ghost cells\n",
    "mbc = 2\n",
    "\n",
    "# compute strides\n",
    "xs = 1 #  stride in x\n",
    "ys = (mx + 2*mbc)*xs #  stride in y\n",
    "zs = (my + 2*mbc)*ys*xs #  stride in z\n",
    "\n",
    "#  grid dimenssion with ghost values\n",
    "ifaces_x = mx + 2*mbc - 1  +1   # faces in x\n",
    "ifaces_y = my + 2*mbc - 1   +1  # faces in y\n",
    "num_faces = ifaces_x*ifaces_y #  number of faces\n",
    "\n",
    "grid1 = [[[] for _ in range(ifaces_y)] for _ in range(ifaces_x)]\n",
    "grid2 = [[[] for _ in range(ifaces_y)] for _ in range(ifaces_x)]\n",
    "grid3 = [[[] for _ in range(ifaces_y)] for _ in range(ifaces_x)]\n",
    "\n",
    "for thread_index in range(num_faces):\n",
    "    ix = thread_index % ifaces_x\n",
    "    iy = thread_index // ifaces_x\n",
    "\n",
    "    # print(ix, iy)\n",
    "\n",
    "    # Calculate indices as before\n",
    "    I = (iy + 1) * ys + (ix + 1) * xs\n",
    "    mq = 0 # 0 - h, 1 - hu, 2 - hv\n",
    "    I_q = I + mq*zs\n",
    "\n",
    "    # Check your condition and append the tuple to the corresponding grid cell\n",
    "    if ix <= mx + 4:\n",
    "        for j in range(my + 4):\n",
    "            if j == iy:\n",
    "                grid1[ix][j].append((ix, iy))\n",
    "                grid2[ix][j].append(((ix, iy), I))\n",
    "                grid3[ix][j].append(((ix, iy), I, I_q))\n",
    "# (0,0) is at the top left corner of the grid\n",
    "# for row in grid1:\n",
    "#     print(row)\n",
    "\n",
    "# print(\"\\n\\n\")\n",
    "\n",
    "#  (0,0) os at the bottom left corner of the grid\n",
    "for j in range(len(grid1)-1, -1, -1):  # Start from the last row, moving upwards\n",
    "    for i in range(len(grid1[j])):\n",
    "        print(grid1[i][j], end=' ')\n",
    "    print()  # Newline after each row\n",
    "\n",
    "print(\"\\n\\n\")\n",
    "for j in range(len(grid2)-1, -1, -1):  # Start from the last row, moving upwards\n",
    "    for i in range(len(grid2[j])):\n",
    "        print(grid2[i][j], end=' ')\n",
    "    print()  # Newline after each row\n",
    "\n",
    "# # print(\"\\n\\n\")\n",
    "# # for j in range(len(grid)-1, -1, -1):  # Start from the last row, moving upwards\n",
    "# #     for i in range(len(grid[i])):\n",
    "# #         print(grid3[i][j], end=' ')\n",
    "# #     print()  # Newline after each row"
   ]
  },
  {
   "cell_type": "code",
   "execution_count": null,
   "metadata": {},
   "outputs": [],
   "source": []
  },
  {
   "cell_type": "code",
   "execution_count": null,
   "metadata": {},
   "outputs": [],
   "source": []
  }
 ],
 "metadata": {
  "kernelspec": {
   "display_name": "Python 3 (ipykernel)",
   "language": "python",
   "name": "python3"
  },
  "language_info": {
   "codemirror_mode": {
    "name": "ipython",
    "version": 3
   },
   "file_extension": ".py",
   "mimetype": "text/x-python",
   "name": "python",
   "nbconvert_exporter": "python",
   "pygments_lexer": "ipython3",
   "version": "3.11.4"
  }
 },
 "nbformat": 4,
 "nbformat_minor": 2
}

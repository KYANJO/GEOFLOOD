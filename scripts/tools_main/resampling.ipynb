{
 "cells": [
  {
   "cell_type": "code",
   "execution_count": null,
   "metadata": {},
   "outputs": [],
   "source": [
    "#  @author: Brian Kyanjo\n",
    "#  @description: This script is used to read a raster file and resample them using gdal\n",
    "#  @date: 22 March 2024\n",
    "\n",
    "from osgeo import gdal, osr, ogr\n",
    "import numpy as np\n",
    "import sys, os\n",
    "import matplotlib.pyplot as plt"
   ]
  },
  {
   "cell_type": "code",
   "execution_count": null,
   "metadata": {},
   "outputs": [],
   "source": [
    "#  swap_header function\n",
    "#  This function swaps the header of the input file with the header of the output file\n",
    "def swap_header(input_file, output_file):\n",
    "    f = open(input_file, 'r')\n",
    "    fnew = open(output_file, 'w')\n",
    "\n",
    "    l = f.readline()\n",
    "    fnew.write(\"%s %s\\n\" % (l.split()[1],l.split()[0]))\n",
    "\n",
    "    l = f.readline()\n",
    "    fnew.write(\"%s %s\\n\" % (l.split()[1],l.split()[0]))\n",
    "\n",
    "    l = f.readline()\n",
    "    fnew.write(\"%s %s\\n\" % (l.split()[1],l.split()[0]))\n",
    "\n",
    "    l = f.readline()\n",
    "    fnew.write(\"%s %s\\n\" % (l.split()[1],l.split()[0]))\n",
    "\n",
    "    l = f.readline()\n",
    "    fnew.write(\"%s %s\\n\" % (l.split()[1],l.split()[0]))\n",
    "\n",
    "    l = f.readline()\n",
    "    fnew.write(\"%s %s\\n\" % (l.split()[1],l.split()[0]))\n",
    "\n",
    "    for line in f:\n",
    "        fnew.write(line)\n",
    "\n",
    "    f.close()\n",
    "    fnew.close()"
   ]
  },
  {
   "cell_type": "code",
   "execution_count": null,
   "metadata": {},
   "outputs": [],
   "source": [
    "# import DEM file\n",
    "filename = \"../Missoula4Brian/topo/topo_with_ice.asc\"\n",
    "dem = gdal.Open(filename)\n",
    "# array = dem.GetRasterBand(1).ReadAsArray()\n",
    "# plt.imshow(array)\n",
    "# plt.colorbar()"
   ]
  },
  {
   "cell_type": "code",
   "execution_count": null,
   "metadata": {},
   "outputs": [],
   "source": [
    "# Resampling \n",
    "if os.path.exists(\"resampled.tif\"):\n",
    "    os.remove(\"resampled.tif\")\n",
    "    \n",
    "# select max resolution \n",
    "xres = 200\n",
    "yres = xres\n",
    "demRes = gdal.Warp(\"resampled.tif\", dem, xRes=xres, yRes=yres)\n",
    "arrayRes = demRes.GetRasterBand(1).ReadAsArray()\n",
    "plt.imshow(arrayRes)\n",
    "\n",
    "# convert tif to .asc\n",
    "if os.path.exists(\"resampled.asc\"):\n",
    "    os.remove(\"resampled.asc\")\n",
    "    \n",
    "# Ensure 'srcDS' is a valid dataset or a path to a file that can be opened\n",
    "srcDS = 'resampled.tif'\n",
    "dstDS = 'resampled.asc'\n",
    "\n",
    "# Correct usage of gdal.Translate to convert TIFF to ASCII Grid format\n",
    "result = gdal.Translate(dstDS, srcDS, format='AAIGrid')"
   ]
  },
  {
   "cell_type": "code",
   "execution_count": null,
   "metadata": {},
   "outputs": [],
   "source": [
    "# get max and min values from the new DEM\n",
    "array = result.GetRasterBand(1).ReadAsArray()\n",
    "max_val = np.max(array)\n",
    "min_val = np.min(array)\n",
    "print(\"Max value: \", max_val, \"Min value: \", min_val)\n",
    "\n",
    "# swap header\n",
    "swap_header(\"resampled.asc\", \"resampled_new.asc\") # for matlab file reading\n",
    "\n",
    "# remove resampled.tif and rename resampled_new.asc to resampled.asc\n",
    "os.remove(\"resampled.tif\")\n",
    "os.rename(\"resampled_new.asc\", \"resampled.asc\")\n"
   ]
  },
  {
   "cell_type": "code",
   "execution_count": null,
   "metadata": {},
   "outputs": [],
   "source": []
  },
  {
   "cell_type": "code",
   "execution_count": null,
   "metadata": {},
   "outputs": [],
   "source": []
  }
 ],
 "metadata": {
  "kernelspec": {
   "display_name": "Python 3",
   "language": "python",
   "name": "python3"
  },
  "language_info": {
   "codemirror_mode": {
    "name": "ipython",
    "version": 3
   },
   "file_extension": ".py",
   "mimetype": "text/x-python",
   "name": "python",
   "nbconvert_exporter": "python",
   "pygments_lexer": "ipython3",
   "version": "3.11.8"
  }
 },
 "nbformat": 4,
 "nbformat_minor": 2
}

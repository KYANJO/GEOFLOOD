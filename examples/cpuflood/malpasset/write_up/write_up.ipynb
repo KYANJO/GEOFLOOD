{
 "cells": [
  {
   "attachments": {},
   "cell_type": "markdown",
   "metadata": {},
   "source": [
    "### Malpasset dam break visualization on google earth using the Quantum Geographic Information System (QGIS).\n",
    "\n",
    "The QGIS is a free and open source Geographic Information System (GIS) application that provides data viewing, editing, and analysis capabilities. It also supports a wide variety of raster, vector, and database formats and allows users to create new data formats through the use of \"plugins\". It is a very powerful tool for geospatial data processing and visualization. It can be used to visualize the dam break simulation results on google earth. The QGIS can be downloaded from the following [link](https://www.qgis.org/en/site/forusers/download.html).\n",
    "\n",
    "Basically the idea is to export frame images at different timesteps from the simulation and georeference them using points that are recongoziable both in google earth and in the simulation domain (obtained from the lat-long converted topography files provided by David). Since we performed the simulation using David George's coordinate system, the generated frame images at specific time step is overlayed google earth using the snippet below from a .kml file\n",
    "\n",
    "```\n",
    "<?xml version=\"1.0\" encoding=\"UTF-8\"?>\n",
    "<kml xmlns=\"http://www.opengis.net/kml/2.2\">\n",
    "  <Folder>\n",
    "    <name>Ground Overlays</name>\n",
    "    <description>Examples of ground overlays</description>\n",
    "    <GroundOverlay>\n",
    "      <name>Large-scale overlay on terrain</name>\n",
    "      <description>Overlay of Malpasset Dam</description>\n",
    "      <Icon>\n",
    "        <href>frame0075fig1.png</href>\n",
    "      </Icon>\n",
    "      <LatLonBox>\n",
    "        <north>43.55003674</north>\n",
    "        <south>43.40221013</south>\n",
    "        <east>6.78171094</east>\n",
    "        <west>6.69262004</west>\n",
    "        <rotation>-6</rotation>\n",
    "      </LatLonBox>\n",
    "    </GroundOverlay>\n",
    "  </Folder>\n",
    "</kml>\n",
    "```\n",
    "The above snippet overlays the image on google earth as shown in the figure below.\n",
    "\n",
    "<img src=\"mlp_google_earth.png\" alt=\"Drawing\" style=\"width: 350px; margin-left: auto; margin-right: 10;\"/>\n",
    "\n",
    "We use the recongnizable initial reservior coordinates of the dam obtained from google earth and other points obtained from the figure above to obatin $(x,y)$ ground control points to georeference the simulated frame image using David George coordinates onto google earth. We use other recongnizable path and domain of the flood region to obtain and match other ground control points. To transform the georeferenced points onto the map, we select the thin plate spline transformation type in QGIS georeference inorder to introduce local deformations in the data of the image and use a spline-based technique while interpolating and smoothing ground control points. see [QGIS documentation](https://docs.qgis.org/2.14/en/docs/user_manual/plugins/plugins_georeferencer.html) for more information about georeferencing an image on a map. The georeferenced raster with the cooresponding coordinates is shown in the figure below.\n",
    "\n",
    "\n",
    "<img src=\"malpasset_georeferencing_coordinates.png\" alt=\"Drawing\" style=\"width: 350px; margin-left: auto; margin-right: 10;\"/>\n",
    "\n",
    "After generating the georefrenced Raster above, ground control points (GCP)(see the last cell for the file) are saved to be called and used for other frames, this makes the remaing work easy as the steps become so easy in the case that you only need the frame image, and GCP to overlay a specific frame on google earth using QGIS. After overlaying the image on the map, we obatin the following  figures for 0, 200, 1500, and 2400 seconds overlayed on Google Satellite Hybrid layer respectively.\n",
    "\n",
    "<img src=\" mlp_00.png\" alt=\"Drawing\" style=\"width: 350px;  margin-left: auto; margin-right: 10;\"/>\n",
    "<img src=\" mlp_20.png\" alt=\"Drawing\" style=\"width: 350px; margin-left: height:252.5pxauto; margin-right: 10;\"/>\n",
    "<img src=\"mlp_150.png\" alt=\"Drawing\" style=\"width: 350px; height:252.5px; margin-left: auto; margin-right: 10;\"/>\n",
    "<img src=\"mlp_240.png\" alt=\"Drawing\" style=\"width: 350px;  margin-left: auto; margin-right: 10;\"/>\n",
    "\n",
    "\n",
    "The same figures are repeated using a different layer: Google Maps \n",
    "\n",
    "<img src=\" mlp_0.png\" alt=\"Drawing\" style=\"width: 350px;  margin-left: auto; margin-right: 10;\"/>\n",
    "<img src=\" mlp_200.png\" alt=\"Drawing\" style=\"width: 350px; margin-left: height:252.5pxauto; margin-right: 10;\"/>\n",
    "<img src=\"mlp_15.png\" alt=\"Drawing\" style=\"width: 350px; height:252.5px; margin-left: auto; margin-right: 10;\"/>\n",
    "<img src=\"mlp_2400.png\" alt=\"Drawing\" style=\"width: 350px;  margin-left: auto; margin-right: 10;\"/>\n",
    "\n"
   ]
  },
  {
   "attachments": {},
   "cell_type": "markdown",
   "metadata": {},
   "source": [
    "Note: Below is the snippet for the ground control points imported to automatically fill in the control points for any frame.\n",
    "\n",
    "```\n",
    "#CRS: PROJCRS[\"NTF (Paris) / Centre France\",BASEGEOGCRS[\"NTF (Paris)\",DATUM[\"Nouvelle Triangulation Francaise (Paris)\",ELLIPSOID[\"Clarke 1880 (IGN)\",6378249.2,293.466021293627,LENGTHUNIT[\"metre\",1]]],PRIMEM[\"Paris\",2.5969213,ANGLEUNIT[\"grad\",0.0157079632679489]],ID[\"EPSG\",4807]],CONVERSION[\"Lambert Centre France\",METHOD[\"Lambert Conic Conformal (1SP)\",ID[\"EPSG\",9801]],PARAMETER[\"Latitude of natural origin\",52,ANGLEUNIT[\"grad\",0.0157079632679489],ID[\"EPSG\",8801]],PARAMETER[\"Longitude of natural origin\",0,ANGLEUNIT[\"grad\",0.0157079632679489],ID[\"EPSG\",8802]],PARAMETER[\"Scale factor at natural origin\",0.99987742,SCALEUNIT[\"unity\",1],ID[\"EPSG\",8805]],PARAMETER[\"False easting\",600000,LENGTHUNIT[\"metre\",1],ID[\"EPSG\",8806]],PARAMETER[\"False northing\",200000,LENGTHUNIT[\"metre\",1],ID[\"EPSG\",8807]]],CS[Cartesian,2],AXIS[\"easting (X)\",east,ORDER[1],LENGTHUNIT[\"metre\",1]],AXIS[\"northing (Y)\",north,ORDER[2],LENGTHUNIT[\"metre\",1]],USAGE[SCOPE[\"Engineering survey, topographic mapping.\"],AREA[\"France mainland onshore between 50.5 grads and 53.5 grads North (45°27'N to 48°09'N).\"],BBOX[45.44,-4.8,48.15,7.63]],ID[\"EPSG\",27592]]\n",
    "mapX,mapY,sourceX,sourceY,enable,dX,dY,residual\n",
    "957743.51526154752355069,-155493.15073811577167362,1497.36786205796715876,-489.50664744442400433,1,-0.00000000022555469,0.00000000018150104,0.00000000028951259\n",
    "957891.71748559828847647,-155945.74476556282024831,1536.84830185891155452,-579.95792335831038145,1,-0.00000000251179699,0.0000000011245902,0.00000000275205873\n",
    "957851.01615811116062105,-165667.61389053298626095,1663.99685854966787701,-1752.13962695308441653,1,0.00000000014574653,-0.00000000103977982,0.00000000104994482\n",
    "958852.07613033102825284,-165253.05118033249164,1923.69089740506865382,-1754.4672303743232078,1,0.00000000072009243,-0.00000000075169737,0.00000000104095247\n",
    "956507.84450594987720251,-167648.58249095967039466,1123.35447741222787954,-2044.89543596675684967,1,0.00000000007048584,-0.00000000002364686,0.00000000007434667\n",
    "959674.55680759344249964,-167693.30750832392368466,2051.79972221380694464,-2049.53449695517701912,1,0.00000000003137757,0.00000000000363798,0.00000000003158776\n",
    "957220.35630903276614845,-166161.213637680048123,1359.68190854870772455,-1842.94234592445332055,0,-18.37346594913560693,5.0385830057387011,19.05181276649978983\n",
    "958326.24403013312257826,-165368.49111341452226043,1796.79814385817189759,-1743.08499386386824881,1,0.00000000093041308,-0.00000000001523404,0.00000000093053779\n",
    "956761.9585325988009572,-167000.40742974344175309,1241.44731438624671682,-1939.26871079688521604,1,-0.00000000010527401,-0.0000000000984528,0.00000000014413734\n",
    "958920.67449575278442353,-151636.10523899336112663,1824.36470056620601099,-7.14421947496174425,1,0.00000000212503437,-0.00000000129847422,0.00000000249034262\n",
    "959220.91753914230503142,-152258.04021517030196264,1972.21143217484291199,-122.91756999668075423,1,-0.00000000195154826,0.000000000760906,0.00000000209464043\n",
    "957355.12220932089257985,-166153.65061008336488158,1384.25447316103372941,-1847.03777335984113961,1,0.00000000026784619,0.00000000021691449,0.00000000034466429\n",
    "958937.46806076262146235,-153140.09401017217896879,1878.718915778774317,-224.61118432222923502,1,0.00000000064073902,-0.00000000028825298,0.00000000070259253\n",
    "958078.30570089886896312,-154598.6753661748371087,1578.55873155981657874,-416.51687587205452701,1,0.00000000000090949,-0.00000000000937916,0.00000000000942316\n",
    "957264.28186105098575354,-155185.10498750361148268,1335.10934393638171969,-483.26043737574553916,0,-8.19085487076586105,-12.28628230614873473,14.76627361321509291\n",
    "957264.28186105098575354,-155185.10498750361148268,1326.91848906560630894,-470.97415506958253673,1,0.00000000000954969,0.0000000000142677,0.00000000001716869\n",
    "```\n"
   ]
  },
  {
   "cell_type": "markdown",
   "metadata": {},
   "source": []
  }
 ],
 "metadata": {
  "kernelspec": {
   "display_name": "Python 3",
   "language": "python",
   "name": "python3"
  },
  "language_info": {
   "codemirror_mode": {
    "name": "ipython",
    "version": 3
   },
   "file_extension": ".py",
   "mimetype": "text/x-python",
   "name": "python",
   "nbconvert_exporter": "python",
   "pygments_lexer": "ipython3",
   "version": "3.9.12 (main, Jun  1 2022, 06:36:29) \n[Clang 12.0.0 ]"
  },
  "orig_nbformat": 4,
  "vscode": {
   "interpreter": {
    "hash": "aecb70613e48f5e300753abdb7f6ee2c7f2235c20ec45eea82d39bc1dc368b4b"
   }
  }
 },
 "nbformat": 4,
 "nbformat_minor": 2
}

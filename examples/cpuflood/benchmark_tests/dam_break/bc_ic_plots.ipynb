{
 "cells": [
  {
   "cell_type": "code",
   "execution_count": 3,
   "metadata": {},
   "outputs": [
    {
     "name": "stdout",
     "output_type": "stream",
     "text": [
      "Using matplotlib backend: nbAgg\n",
      "Populating the interactive namespace from numpy and matplotlib\n"
     ]
    }
   ],
   "source": [
    "# @author : Brian KYANJO\n",
    "# @date : 04-10-2023\n",
    "# @description : This script is used to visualize the BC_IC data and hydrological data including DEM files\n",
    "\n",
    "\n",
    "%matplotlib notebook\n",
    "%pylab\n",
    "%matplotlib inline\n",
    "import pandas as pd\n",
    "import rasterio"
   ]
  },
  {
   "cell_type": "code",
   "execution_count": null,
   "metadata": {},
   "outputs": [],
   "source": [
    "#  Load data\n",
    "# ---------------- test1 ----------------\n",
    "test1bc = pd.read_csv('Test1/Test1BC.csv')\n",
    "test1bed = pd.read_csv('Test1/test1_z.csv')\n",
    "\n",
    "#  Calculate the bed elevation (from DEM file)\n",
    "nx = 371\n",
    "ny = 71\n",
    "ax = -20\n",
    "bx = 700\n",
    "ay = -20\n",
    "by = 100\n",
    "z0 = 9.7\n",
    "zn = 10.35\n",
    "z1 = test1bed['z'][:nx]\n",
    "x = linspace(ax,bx,len(z1))\n",
    "# y = linspace(ay,by,ny)\n",
    "\n",
    "#  read DEM file\n",
    "# dem = pd.read_csv('Test1/test1DEM_.topo',header=None)\n",
    "# dem\n",
    "# z1[:nx]\n",
    "test1bc"
   ]
  },
  {
   "cell_type": "code",
   "execution_count": null,
   "metadata": {},
   "outputs": [],
   "source": [
    "# ---------------- ploting ----------------\n",
    "figure(1)\n",
    "figure(figsize=(8, 2), dpi=300)\n",
    "plot(test1bc['Time (mins)'], test1bc['Water level (m)'], 'b-',label='BC')\n",
    "xlim(0,1200)\n",
    "ylim(9.5,10.5)\n",
    "grid()\n",
    "xlabel('Time (mins)', fontdict={'fontsize': 12, 'fontweight': 'bold'})\n",
    "ylabel('Water level (m)', fontdict={'fontsize': 12, 'fontweight': 'bold'})\n",
    "xticks(fontweight='bold')\n",
    "yticks(fontweight='bold')\n",
    "# gca().minorticks_off()\n",
    "savefig('Test1BC.png')\n",
    "# show()\n",
    "\n"
   ]
  },
  {
   "cell_type": "code",
   "execution_count": null,
   "metadata": {},
   "outputs": [],
   "source": [
    "figure(2)\n",
    "figure(figsize=(8, 2), dpi=300)\n",
    "plot(x, z1,'b-', label='Bed elevation')\n",
    "plot(x[where(x>0)[0][0]],z1[where(x>0)[0][0]],'r*',label='BC')\n",
    "plot(x[where(x>400)[0][0]],z1[where(x>400)[0][0]],'ro',label='P1')\n",
    "plot(x[where(x>600)[0][0]],z1[where(x>600)[0][0]],'ro',label='P2')\n",
    "xlim(-20,700)\n",
    "ylim(9.5,10.5)\n",
    "grid()\n",
    "xlabel('x (m)', fontdict={'fontsize': 12, 'fontweight': 'bold'})\n",
    "ylabel('z (m)', fontdict={'fontsize': 12, 'fontweight': 'bold'})\n",
    "legend(['Bed elevation','BC','P1','P2'], prop={'size': 8, 'weight': 'bold'}, loc='best')\n",
    "xticks(fontweight='bold')\n",
    "yticks(fontweight='bold')\n",
    "# gca().minorticks_off()\n",
    "savefig('Test1bed.png')\n",
    "show()"
   ]
  },
  {
   "cell_type": "code",
   "execution_count": 8,
   "metadata": {},
   "outputs": [],
   "source": [
    "#  Load data\n",
    "# ---------------- test2 ----------------\n",
    "# test2bc = pd.read_csv('Test2/Test2_BC.csv')\n",
    "# test2bed = pd.read_csv('Test2/test2_z.csv')\n",
    "\n",
    "#  Calculate the bed elevation (from DEM file)\n",
    "# nx = 1201\n",
    "# ny = 1201\n",
    "# ax = -200\n",
    "# bx = 2000\n",
    "# ay = -200\n",
    "# by = 2000\n",
    "\n",
    "# z2 = test1bed['z'][:nx]\n",
    "# x2 = linspace(ax,bx,len(z2))\n",
    "# y = linspace(ay,by,ny)\n",
    "\n",
    "file_path = 'scratch/Test6BDEM.asc'\n",
    "\n",
    "# open the file using rasterio\n",
    "with rasterio.open(file_path) as src:\n",
    "    # read the data\n",
    "    data = src.read(1)\n",
    "    # get the metadata\n",
    "    meta = src.meta\n",
    "    # get the bounds\n",
    "    bounds = src.bounds\n",
    "    # get the resolution\n",
    "    res = src.res\n",
    "    # get the number of rows and columns\n",
    "    rows, cols = data.shape\n",
    "    # get the geotransform\n",
    "    transform = src.transform"
   ]
  },
  {
   "cell_type": "code",
   "execution_count": 11,
   "metadata": {},
   "outputs": [
    {
     "data": {
      "image/png": "[encoded data removed]",
      "text/plain": [
       "<Figure size 640x480 with 2 Axes>"
      ]
     },
     "metadata": {},
     "output_type": "display_data"
    }
   ],
   "source": [
    "# ---------------- ploting ----------------\n",
    "# figure(3)\n",
    "# figure(figsize=(8, 2), dpi=300)\n",
    "# plot(test2bc['Time (min)'], test2bc['Inflow (cumecs)'],'b-', label='BC')\n",
    "# xlim(0,180)\n",
    "# ylim(0,25)\n",
    "# grid()\n",
    "# xlabel('Time (mins)', fontdict={'fontsize': 12, 'fontweight': 'bold'})\n",
    "# ylabel('inflow ($m^3/s$)', fontdict={'fontsize': 12, 'fontweight': 'bold'})\n",
    "# xticks(fontweight='bold')\n",
    "# yticks(fontweight='bold')\n",
    "# gca().minorticks_off()\n",
    "# savefig('Test2BC.png')\n",
    "# # show()\n",
    "\n",
    "figure(4)\n",
    "import matplotlib.colors as mcolors\n",
    "# Define the \"terrain\" colormap\n",
    "terrain_cmap = mcolors.ListedColormap([\n",
    "    \"#0E7D11\", \"#449C33\", \"#65A150\", \"#87B56F\", \"#A8C78E\",\n",
    "    \"#C9DAAF\", \"#EBF3D0\", \"#F5E3AB\", \"#F3C080\", \"#F1A453\",\n",
    "    \"#EE8627\", \"#EB6700\", \"#E14400\", \"#D51900\", \"#BA1A00\",\n",
    "    \"#9E1C00\", \"#831D00\", \"#681F00\", \"#4D2000\"])\n",
    "\n",
    "\n",
    "# figure(figsize=(4, 4), dpi=300)\n",
    "imshow(data)\n",
    "\n",
    "\n",
    "\n",
    "# remove axis ticks\n",
    "ax = gca()\n",
    "ax.xaxis.set_ticks_position('none')\n",
    "ax.yaxis.set_ticks_position('none')\n",
    "#  remve axis labels\n",
    "ax.xaxis.set_ticklabels([])\n",
    "ax.yaxis.set_ticklabels([])\n",
    "\n",
    "#  remove the frame\n",
    "ax.set_frame_on(False)\n",
    "\n",
    "# insert a minor grid\n",
    "ax.grid(which='minor', color='w', linestyle='-', linewidth=1)\n",
    "\n",
    "#  invert the y axis\n",
    "gca().invert_yaxis()\n",
    "\n",
    "# add a colorbar with the same dimensions as the plot\n",
    "colorbar(shrink=0.8,label = 'Elevation (m)')\n",
    "savefig('Test2DEM.png')\n",
    "show()"
   ]
  },
  {
   "cell_type": "code",
   "execution_count": null,
   "metadata": {},
   "outputs": [],
   "source": [
    "#  Load data\n",
    "# ---------------- test3 ----------------\n",
    "test4bc = pd.read_csv('Test4/Test4BC.csv')\n",
    "\n",
    "ax = 0\n",
    "bx = 600\n",
    "\n",
    "x4 = linspace(ax,bx,len(test4bc['Time (min)']))\n",
    "test4bc"
   ]
  },
  {
   "cell_type": "code",
   "execution_count": null,
   "metadata": {},
   "outputs": [],
   "source": [
    "# ---------------- ploting ----------------\n",
    "figure(5)\n",
    "figure(figsize=(8, 2), dpi=300)\n",
    "plot(test4bc['Time (min)'], test4bc['Inflow (cumecs)'],'b-', label='BC')\n",
    "xlim(0,600)\n",
    "ylim(0,25)\n",
    "grid()\n",
    "xlabel('Time (mins)', fontdict={'fontsize': 12, 'fontweight': 'bold'})\n",
    "ylabel('inflow ($m^3/s$)', fontdict={'fontsize': 12, 'fontweight': 'bold'})\n",
    "xticks(fontweight='bold')\n",
    "yticks(fontweight='bold')\n",
    "gca().minorticks_off()\n",
    "savefig('Test4BC.png')\n",
    "show()"
   ]
  },
  {
   "cell_type": "code",
   "execution_count": null,
   "metadata": {},
   "outputs": [],
   "source": [
    "file_path = 'scratch/test1DEM.asc'\n",
    "\n",
    "# open the file using rasterio\n",
    "with rasterio.open(file_path) as src:\n",
    "    # read the data\n",
    "    data = src.read(1)\n",
    "    # get the metadata\n",
    "    meta = src.meta\n",
    "    # get the bounds\n",
    "    bounds = src.bounds\n",
    "    # get the resolution\n",
    "    res = src.res\n",
    "    # get the number of rows and columns\n",
    "    rows, cols = data.shape\n",
    "    # get the geotransform\n",
    "    transform = src.transform"
   ]
  },
  {
   "cell_type": "code",
   "execution_count": null,
   "metadata": {},
   "outputs": [],
   "source": [
    "figure(6)\n",
    "import matplotlib.colors as mcolors\n",
    "# Define the \"terrain\" colormap\n",
    "terrain_cmap = mcolors.ListedColormap([\n",
    "    \"#0E7D11\", \"#449C33\", \"#65A150\", \"#87B56F\", \"#A8C78E\",\n",
    "    \"#C9DAAF\", \"#EBF3D0\", \"#F5E3AB\", \"#F3C080\", \"#F1A453\",\n",
    "    \"#EE8627\", \"#EB6700\", \"#E14400\", \"#D51900\", \"#BA1A00\",\n",
    "    \"#9E1C00\", \"#831D00\", \"#681F00\", \"#4D2000\"])\n",
    "\n",
    "\n",
    "figure(figsize=(4, 4), dpi=300)\n",
    "imshow(data, cmap=terrain_cmap)\n",
    "\n",
    "\n",
    "\n",
    "# remove axis ticks\n",
    "ax = gca()\n",
    "ax.xaxis.set_ticks_position('none')\n",
    "ax.yaxis.set_ticks_position('none')\n",
    "#  remve axis labels\n",
    "ax.xaxis.set_ticklabels([])\n",
    "ax.yaxis.set_ticklabels([])\n",
    "\n",
    "#  remove the frame\n",
    "ax.set_frame_on(False)\n",
    "\n",
    "# insert a minor grid\n",
    "ax.grid(which='minor', color='w', linestyle='-', linewidth=1)\n",
    "\n",
    "#  invert the y axis\n",
    "gca().invert_yaxis()\n",
    "\n",
    "# add a colorbar with the same dimensions as the plot\n",
    "colorbar(shrink=0.8,label = 'Elevation (m)')\n",
    "savefig('Test1DEM.png')\n",
    "show()"
   ]
  },
  {
   "cell_type": "code",
   "execution_count": null,
   "metadata": {},
   "outputs": [],
   "source": [
    "# load data\n",
    "bc = pd.read_csv('scratch/bc_.csv')\n",
    "\n",
    "# bc = array(bc)\n",
    "bc['Time (mins)'] = bc['Time (mins)']*60\n",
    "bc"
   ]
  },
  {
   "cell_type": "code",
   "execution_count": null,
   "metadata": {},
   "outputs": [],
   "source": [
    "time = bc['Time (mins)']\n",
    "z  = bc['Water level (m)']\n",
    "time = array(time)\n",
    "z = array(z)"
   ]
  },
  {
   "cell_type": "code",
   "execution_count": null,
   "metadata": {},
   "outputs": [],
   "source": [
    "# write a routine that linearly interpolates z at the time points in time\n",
    "#  and returns the interpolated values in zinterp\n",
    "def interp(t,time,z):\n",
    "    # zinterp = zeros(len(time))\n",
    "    # for i in range(len(time)):\n",
    "    if t < time[0]:\n",
    "        zinterp = z[0]\n",
    "    elif t > time[-1]:\n",
    "        zinterp = z[-1]\n",
    "    else:\n",
    "        for j in range(len(time)-1):\n",
    "            if t >= time[j] and t <= time[j+1]:\n",
    "                zinterp = z[j] + (z[j+1]-z[j])/(time[j+1]-time[j])*(t-time[j])\n",
    "    return zinterp\n",
    "\n",
    "\n"
   ]
  },
  {
   "cell_type": "code",
   "execution_count": null,
   "metadata": {},
   "outputs": [],
   "source": [
    "t = 40090\n",
    "zi = interp(t,time,z) \n",
    "zi"
   ]
  },
  {
   "cell_type": "code",
   "execution_count": null,
   "metadata": {},
   "outputs": [],
   "source": [
    "t = linspace(0,80000,1000)\n",
    "zi = zeros(len(t))\n",
    "for i in range(len(t)):\n",
    "    zi[i] = interp(t[i],time,z)\n",
    "\n",
    "figure(7)\n",
    "plot(time,z,'b-',label='BC')"
   ]
  },
  {
   "cell_type": "code",
   "execution_count": null,
   "metadata": {},
   "outputs": [],
   "source": []
  }
 ],
 "metadata": {
  "kernelspec": {
   "display_name": "moose",
   "language": "python",
   "name": "python3"
  },
  "language_info": {
   "codemirror_mode": {
    "name": "ipython",
    "version": 3
   },
   "file_extension": ".py",
   "mimetype": "text/x-python",
   "name": "python",
   "nbconvert_exporter": "python",
   "pygments_lexer": "ipython3",
   "version": "3.9.13"
  },
  "orig_nbformat": 4
 },
 "nbformat": 4,
 "nbformat_minor": 2
}

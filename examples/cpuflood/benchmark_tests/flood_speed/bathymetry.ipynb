{
 "cells": [
  {
   "cell_type": "code",
   "execution_count": 7,
   "metadata": {},
   "outputs": [],
   "source": [
    "# @author : Brian KYANJO\n",
    "# @date : 04-10-2023\n",
    "# @description : This script is used to generate bathymetry data for a ground elevation of of uniform 0.0m\n",
    "\n",
    "import numpy as np\n",
    "import os\n",
    "import clawpack.geoclaw.topotools as tt\n",
    "import clawpack.geoclaw.data\n",
    "import matplotlib.pyplot as plt"
   ]
  },
  {
   "cell_type": "code",
   "execution_count": 12,
   "metadata": {},
   "outputs": [],
   "source": [
    "mx = 20; my = 20\n",
    "mi = 10; mj = 20\n",
    "nx = mx*mi \n",
    "ny = my*mj \n",
    "ax = 0.0\n",
    "bx = 1000.0\n",
    "ay = 0.0\n",
    "by = 2000.0\n",
    "\n",
    "# x = np.linspace(ax,bx,nx)\n",
    "# y = np.linspace(ay,by,ny)\n",
    "# X,Y = np.meshgrid(x,y)\n",
    "\n",
    "# Z = np.zeros((ny,nx))\n",
    "\n",
    "# # write data to file with headers x, y, z\n",
    "# with open('bathy.topotype1', 'w') as f:\n",
    "#     # f.write('x y z\\n')\n",
    "#     for i in range(nx):\n",
    "#         for j in range(ny):\n",
    "#             f.write('{:f} {:f} {:f} \\n'.format(X[j,i],Y[j,i],Z[j,i]))\n",
    "\n",
    "# convert to topotype 2\n",
    "# topo = tt.Topography('bathy.topotype1', topo_type=1)\n",
    "# topo.write('bathy.topotype2', topo_type=2)\n",
    "\n",
    "# write out topotype 2\n",
    "with open('bathy.topotype2', 'w') as f:\n",
    "    # put some space btn the columns\n",
    "    f.write('{:f}  ' '  ncols\\n'.format(nx))\n",
    "    f.write('{:f} ' '  nrows\\n'.format(ny))\n",
    "    f.write('{:f} ' '  xll\\n'.format(ax))\n",
    "    f.write('{:f} ' '  yll\\n'.format(ay))\n",
    "    f.write('{:f} ' '  cellsize\\n'.format(2*(bx-ax)/nx)) # cellsize is twice the distance between two points in x direction to fit the grid\n",
    "    f.write('{:f} ' '  nodata_value\\n'.format(-9999))\n",
    "    #  write out 0.0 values on each seperate line\n",
    "    for i in range(nx*ny):\n",
    "        f.write('{:f} \\n'.format(0.0))\n",
    "\n"
   ]
  },
  {
   "cell_type": "code",
   "execution_count": null,
   "metadata": {},
   "outputs": [],
   "source": []
  }
 ],
 "metadata": {
  "kernelspec": {
   "display_name": "base",
   "language": "python",
   "name": "python3"
  },
  "language_info": {
   "codemirror_mode": {
    "name": "ipython",
    "version": 3
   },
   "file_extension": ".py",
   "mimetype": "text/x-python",
   "name": "python",
   "nbconvert_exporter": "python",
   "pygments_lexer": "ipython3",
   "version": "3.9.13"
  },
  "orig_nbformat": 4
 },
 "nbformat": 4,
 "nbformat_minor": 2
}

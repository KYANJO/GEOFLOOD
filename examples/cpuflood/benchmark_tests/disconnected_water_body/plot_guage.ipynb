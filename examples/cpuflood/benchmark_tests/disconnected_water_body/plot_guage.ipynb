{
 "cells": [
  {
   "cell_type": "code",
   "execution_count": 1,
   "metadata": {},
   "outputs": [
    {
     "name": "stdout",
     "output_type": "stream",
     "text": [
      "Using matplotlib backend: nbAgg\n",
      "%pylab is deprecated, use %matplotlib inline and import the required libraries.\n",
      "Populating the interactive namespace from numpy and matplotlib\n"
     ]
    }
   ],
   "source": [
    "%matplotlib notebook\n",
    "%pylab\n",
    "%matplotlib inline\n",
    "\n",
    "import pandas as pd\n",
    "import glob"
   ]
  },
  {
   "cell_type": "code",
   "execution_count": 2,
   "metadata": {},
   "outputs": [],
   "source": [
    "def read_gauge_data(gauge_file):\n",
    "    \"\"\"\n",
    "    Read gauge data from a guage file.\n",
    "    \"\"\"\n",
    "    with open(gauge_file) as f:\n",
    "        data = f.read().splitlines()\n",
    "        data1 = []\n",
    "        for i in range(2,len(data)):\n",
    "            data[i] = data[i].split()\n",
    "            data1.append([float(x) for x in data[i]])\n",
    "            \n",
    "    data1 = array(data1)\n",
    "    levels = data1[:,0]\n",
    "    time = data1[:,1]\n",
    "    h = data1[:,2]\n",
    "    hu = data1[:,3]\n",
    "    hv = data1[:,4]\n",
    "    eta = data1[:,5]\n",
    "\n",
    "    eta_max = max(eta)\n",
    "    topo = eta - h\n",
    "\n",
    "    return time, h,eta,topo\n",
    "\n",
    "\n",
    "def read_valid(gauge_file):\n",
    "    \"\"\"\n",
    "    Read gauge data from a literature data.\n",
    "    \"\"\"\n",
    "    with open(gauge_file) as f:\n",
    "        data = f.read().splitlines()\n",
    "        data1 = []\n",
    "        for i in range(1,len(data)):\n",
    "            data[i] = data[i].split()\n",
    "            data1.append([float(x) for x in data[i]])\n",
    "            \n",
    "    data1 = array(data1)\n",
    "    guage = data1[:,0]\n",
    "    z = data1[:,1]\n",
    "    h_max = data1[:,2]\n",
    "    eta_max = data1[:,3]\n",
    "\n",
    "    return h_max, eta_max"
   ]
  },
  {
   "cell_type": "code",
   "execution_count": 69,
   "metadata": {},
   "outputs": [
    {
     "name": "stdout",
     "output_type": "stream",
     "text": [
      "time =   [0.    0.125]\n",
      "h =  [0. 0.]\n",
      "eta =  [10.000935 10.000935]\n"
     ]
    }
   ],
   "source": [
    "time,h,eta, topo = read_gauge_data(\"gauge00001.txt\")\n",
    "# print time, h, eta, topo\n",
    "print('time =  ', time/3600)\n",
    "print('h = ', h)\n",
    "print('eta = ', eta)\n",
    "# print('topo = ', topo)"
   ]
  },
  {
   "cell_type": "code",
   "execution_count": null,
   "metadata": {},
   "outputs": [],
   "source": []
  },
  {
   "cell_type": "code",
   "execution_count": 65,
   "metadata": {},
   "outputs": [
    {
     "data": {
      "image/png": "[encoded data removed]",
      "text/plain": [
       "<Figure size 720x576 with 1 Axes>"
      ]
     },
     "metadata": {
      "needs_background": "light"
     },
     "output_type": "display_data"
    }
   ],
   "source": [
    "# plot the data\n",
    "figsize(10,8)\n",
    "figure(5)\n",
    "plot(time/3600,eta,'b-*',label='GeoFlood')\n",
    "plot (time/3600,[10.35]*len(h),'r--',label='GeoClaw')\n",
    "plot (time/3600,[10.25]*len(h),'g--',label='Valid')\n",
    "# plot(geoclaw_maxeta,'r-o',label='GeoClaw')\n",
    "\n",
    "# put letters on the x axis\n",
    "# xticks(range(len(guages_eta_max)),gauge_points)\n",
    "axis([0, 20, 10.00, 10.40])\n",
    "# legend(loc='upper right')\n",
    "ylabel(' Water Level (m)')\n",
    "xlabel('time (minutes)')\n",
    "# title('Maximum Water Level at Guages')\n",
    "grid()"
   ]
  },
  {
   "cell_type": "code",
   "execution_count": null,
   "metadata": {},
   "outputs": [],
   "source": []
  },
  {
   "cell_type": "code",
   "execution_count": null,
   "metadata": {},
   "outputs": [],
   "source": [
    "gauge_points = ['P1','P2']\n",
    "\n",
    "\n",
    "# plot the data\n",
    "figsize(10,8)\n",
    "figure(1)\n",
    "plot(guages_eta_max,'b-*',label='GeoFlood')\n",
    "# plot(geoclaw_maxeta,'r-o',label='GeoClaw')\n",
    "\n",
    "# put letters on the x axis\n",
    "xticks(range(len(guages_eta_max)),gauge_points)\n",
    "\n",
    "legend(loc='upper right')\n",
    "ylabel('Maximum Water Level (m)')\n",
    "xlabel('Gauge Number')\n",
    "# title('Maximum Water Level at Guages')\n",
    "grid()\n",
    "savefig('gauge_maxeta.png')"
   ]
  },
  {
   "cell_type": "code",
   "execution_count": null,
   "metadata": {},
   "outputs": [],
   "source": [
    "police_points = ['S1','S2','S3','S4','S5','S6','S7','S8','S9','S10','S11','S12','S13','S14','S15','S16','S17']\n",
    "\n",
    "figure(2)\n",
    "plot(police,'b-*',label='GeoFlood')\n",
    "plot(geoclaw_police,'r-o',label='GeoClaw')\n",
    "# plot(field_police,'g*',label='Field')\n",
    "# plot(telemac_police,'c*',label='Telemac')\n",
    "plot(valiani_police,'m*',label='Valiani')\n",
    "xticks(range(len(police)),police_points)\n",
    "\n",
    "legend(loc='upper right')\n",
    "ylabel('Maximum Water Level (m)')\n",
    "xlabel('Police surveyed points')\n",
    "# title('Maximum Water Level at Police Stations')\n",
    "grid()\n",
    "savefig('police_maxeta.png')"
   ]
  },
  {
   "cell_type": "code",
   "execution_count": null,
   "metadata": {},
   "outputs": [],
   "source": [
    "figure(3)\n",
    "plot(transformer,'b-*',label='GeoFlood')\n",
    "plot(transformer_g,'r-o',label='GeoClaw')\n",
    "# plot(field_police,'g*',label='Field')\n",
    "# plot(telemac_police,'c*',label='Telemac')\n",
    "# plot(transformer_v,'m*',label='Valiani')\n",
    "xticks(range(len(transformer_v)),transformer_points)\n",
    "\n",
    "legend(loc='upper right')\n",
    "ylabel('Maximum Water Level (m)')\n",
    "xlabel('Police surveyed points')\n",
    "# title('Maximum Water Level at Police Stations')\n",
    "grid()\n",
    "savefig('transformer_maxeta.png')"
   ]
  },
  {
   "cell_type": "markdown",
   "metadata": {},
   "source": []
  },
  {
   "cell_type": "code",
   "execution_count": null,
   "metadata": {},
   "outputs": [],
   "source": []
  }
 ],
 "metadata": {
  "kernelspec": {
   "display_name": "base",
   "language": "python",
   "name": "python3"
  },
  "language_info": {
   "codemirror_mode": {
    "name": "ipython",
    "version": 3
   },
   "file_extension": ".py",
   "mimetype": "text/x-python",
   "name": "python",
   "nbconvert_exporter": "python",
   "pygments_lexer": "ipython3",
   "version": "3.9.12"
  },
  "orig_nbformat": 4,
  "vscode": {
   "interpreter": {
    "hash": "aecb70613e48f5e300753abdb7f6ee2c7f2235c20ec45eea82d39bc1dc368b4b"
   }
  }
 },
 "nbformat": 4,
 "nbformat_minor": 2
}
